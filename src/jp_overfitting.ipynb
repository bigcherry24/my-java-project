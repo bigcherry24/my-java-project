{
 "cells": [
  {
   "cell_type": "code",
   "execution_count": 15,
   "metadata": {},
   "outputs": [],
   "source": [
    "from sklearn.linear_model import LinearRegression\n",
    "from sklearn.model_selection import train_test_split\n",
    "from sklearn.metrics import mean_squared_error\n",
    "from sklearn.preprocessing import PolynomialFeatures\n",
    "\n",
    "from math import sqrt\n",
    "\n",
    "import numpy as np\n",
    "import pandas as pd"
   ]
  },
  {
   "cell_type": "code",
   "execution_count": 2,
   "metadata": {},
   "outputs": [],
   "source": [
    "ADMISSIONS_FILE_PAHT = './datasets/admission_data.csv'\n",
    "admissoin_df = pd.read_csv(ADMISSIONS_FILE_PAHT).drop(\"Serial No.\", axis=1)"
   ]
  },
  {
   "cell_type": "code",
   "execution_count": null,
   "metadata": {},
   "outputs": [],
   "source": [
    "admissoin_df.head()"
   ]
  },
  {
   "cell_type": "code",
   "execution_count": null,
   "metadata": {},
   "outputs": [],
   "source": [
    "X = admissoin_df.drop(\"Chance of Admit \", axis=1)\n",
    "\n",
    "polynomial_transformer = PolynomialFeatures(6)\n",
    "polynomial_features = polynomial_transformer.fit_transform(X.values)\n",
    "features = polynomial_transformer.get_feature_names_out(X.columns)\n",
    "\n",
    "X = pd.DataFrame(polynomial_features, columns=features)\n",
    "X.head()"
   ]
  },
  {
   "cell_type": "code",
   "execution_count": null,
   "metadata": {},
   "outputs": [],
   "source": [
    "y = admissoin_df[[\"Chance of Admit \"]]\n",
    "y.head()"
   ]
  },
  {
   "cell_type": "code",
   "execution_count": 13,
   "metadata": {},
   "outputs": [],
   "source": [
    "X_train, X_test, y_train, y_test = train_test_split(X, y, test_size=0.3, random_state=5)"
   ]
  },
  {
   "cell_type": "code",
   "execution_count": null,
   "metadata": {},
   "outputs": [],
   "source": [
    "model = LinearRegression()\n",
    "model.fit(X_train, y_train)"
   ]
  },
  {
   "cell_type": "code",
   "execution_count": null,
   "metadata": {},
   "outputs": [],
   "source": [
    "y_train_predict = model.predict(X_train)\n",
    "y_test_predict = model.predict(X_test)\n",
    "\n",
    "rmse_train = sqrt(mean_squared_error(y_train, y_train_predict))\n",
    "\n",
    "print(\"training set에서의 성능\")\n",
    "print(\"RMSE: {}\".format(rmse_train))\n",
    "print(\"\\n\")\n",
    "\n",
    "rmse_test = sqrt(mean_squared_error(y_test, y_test_predict))\n",
    "print(\"test set에서의 성능\")\n",
    "print(\"RMSE: {}\".format(rmse_test))\n",
    "print(\"\\n\")"
   ]
  }
 ],
 "metadata": {
  "kernelspec": {
   "display_name": "myenv",
   "language": "python",
   "name": "python3"
  },
  "language_info": {
   "codemirror_mode": {
    "name": "ipython",
    "version": 3
   },
   "file_extension": ".py",
   "mimetype": "text/x-python",
   "name": "python",
   "nbconvert_exporter": "python",
   "pygments_lexer": "ipython3",
   "version": "3.12.3"
  }
 },
 "nbformat": 4,
 "nbformat_minor": 2
}
